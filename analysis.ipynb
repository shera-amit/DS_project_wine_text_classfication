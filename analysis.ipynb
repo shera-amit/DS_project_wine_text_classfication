{
 "cells": [
  {
   "cell_type": "code",
   "execution_count": 65,
   "metadata": {},
   "outputs": [],
   "source": [
    "# !pip install -q -U tensorflow_hub"
   ]
  },
  {
   "cell_type": "code",
   "execution_count": 88,
   "metadata": {},
   "outputs": [],
   "source": [
    "import pandas as pd\n",
    "import numpy as np\n",
    "import seaborn as sns\n",
    "import matplotlib.pyplot as plt\n",
    "import tensorflow as tf\n",
    "import tensorflow_hub as hub\n",
    "from keras.callbacks import EarlyStopping\n"
   ]
  },
  {
   "cell_type": "code",
   "execution_count": 16,
   "metadata": {},
   "outputs": [],
   "source": [
    "%config InlineBackend.figure_format='retina'"
   ]
  },
  {
   "cell_type": "markdown",
   "metadata": {},
   "source": [
    "#### select selected columns from the pandas dataframe\n"
   ]
  },
  {
   "cell_type": "code",
   "execution_count": 17,
   "metadata": {},
   "outputs": [],
   "source": [
    "df = pd.read_csv('wine-reviews.csv', usecols=['country', 'description',  'points', 'price', 'variety', 'winery' ])"
   ]
  },
  {
   "cell_type": "code",
   "execution_count": 18,
   "metadata": {},
   "outputs": [
    {
     "data": {
      "text/html": [
       "<div><div id=1126cf22-1c0d-4578-8a41-20ea77d6a14a style=\"display:none; background-color:#9D6CFF; color:white; width:200px; height:30px; padding-left:5px; border-radius:4px; flex-direction:row; justify-content:space-around; align-items:center;\" onmouseover=\"this.style.backgroundColor='#BA9BF8'\" onmouseout=\"this.style.backgroundColor='#9D6CFF'\" onclick=\"window.commands?.execute('create-mitosheet-from-dataframe-output');\">See Full Dataframe in Mito</div> <script> if (window.commands.hasCommand('create-mitosheet-from-dataframe-output')) document.getElementById('1126cf22-1c0d-4578-8a41-20ea77d6a14a').style.display = 'flex' </script> <table border=\"1\" class=\"dataframe\">\n",
       "  <thead>\n",
       "    <tr style=\"text-align: right;\">\n",
       "      <th></th>\n",
       "      <th>country</th>\n",
       "      <th>description</th>\n",
       "      <th>points</th>\n",
       "      <th>price</th>\n",
       "      <th>variety</th>\n",
       "      <th>winery</th>\n",
       "    </tr>\n",
       "  </thead>\n",
       "  <tbody>\n",
       "    <tr>\n",
       "      <th>0</th>\n",
       "      <td>Italy</td>\n",
       "      <td>Aromas include tropical fruit, broom, brimstone and dried herb. The palate isn't overly expressive, offering unripened apple, citrus and dried sage alongside brisk acidity.</td>\n",
       "      <td>87</td>\n",
       "      <td>NaN</td>\n",
       "      <td>White Blend</td>\n",
       "      <td>Nicosia</td>\n",
       "    </tr>\n",
       "    <tr>\n",
       "      <th>1</th>\n",
       "      <td>Portugal</td>\n",
       "      <td>This is ripe and fruity, a wine that is smooth while still structured. Firm tannins are filled out with juicy red berry fruits and freshened with acidity. It's  already drinkable, although it will certainly be better from 2016.</td>\n",
       "      <td>87</td>\n",
       "      <td>15.0</td>\n",
       "      <td>Portuguese Red</td>\n",
       "      <td>Quinta dos Avidagos</td>\n",
       "    </tr>\n",
       "    <tr>\n",
       "      <th>2</th>\n",
       "      <td>US</td>\n",
       "      <td>Tart and snappy, the flavors of lime flesh and rind dominate. Some green pineapple pokes through, with crisp acidity underscoring the flavors. The wine was all stainless-steel fermented.</td>\n",
       "      <td>87</td>\n",
       "      <td>14.0</td>\n",
       "      <td>Pinot Gris</td>\n",
       "      <td>Rainstorm</td>\n",
       "    </tr>\n",
       "    <tr>\n",
       "      <th>3</th>\n",
       "      <td>US</td>\n",
       "      <td>Pineapple rind, lemon pith and orange blossom start off the aromas. The palate is a bit more opulent, with notes of honey-drizzled guava and mango giving way to a slightly astringent, semidry finish.</td>\n",
       "      <td>87</td>\n",
       "      <td>13.0</td>\n",
       "      <td>Riesling</td>\n",
       "      <td>St. Julian</td>\n",
       "    </tr>\n",
       "    <tr>\n",
       "      <th>4</th>\n",
       "      <td>US</td>\n",
       "      <td>Much like the regular bottling from 2012, this comes across as rather rough and tannic, with rustic, earthy, herbal characteristics. Nonetheless, if you think of it as a pleasantly unfussy country wine, it's a good companion to a hearty winter stew.</td>\n",
       "      <td>87</td>\n",
       "      <td>65.0</td>\n",
       "      <td>Pinot Noir</td>\n",
       "      <td>Sweet Cheeks</td>\n",
       "    </tr>\n",
       "  </tbody>\n",
       "</table></div>"
      ],
      "text/plain": [
       "    country                                        description  points  price  \\\n",
       "0     Italy  Aromas include tropical fruit, broom, brimston...      87    NaN   \n",
       "1  Portugal  This is ripe and fruity, a wine that is smooth...      87   15.0   \n",
       "2        US  Tart and snappy, the flavors of lime flesh and...      87   14.0   \n",
       "3        US  Pineapple rind, lemon pith and orange blossom ...      87   13.0   \n",
       "4        US  Much like the regular bottling from 2012, this...      87   65.0   \n",
       "\n",
       "          variety               winery  \n",
       "0     White Blend              Nicosia  \n",
       "1  Portuguese Red  Quinta dos Avidagos  \n",
       "2      Pinot Gris            Rainstorm  \n",
       "3        Riesling           St. Julian  \n",
       "4      Pinot Noir         Sweet Cheeks  "
      ]
     },
     "execution_count": 18,
     "metadata": {},
     "output_type": "execute_result"
    }
   ],
   "source": [
    "df.head()"
   ]
  },
  {
   "cell_type": "markdown",
   "metadata": {},
   "source": [
    "#### dropna values from the description and the points columns"
   ]
  },
  {
   "cell_type": "code",
   "execution_count": 19,
   "metadata": {},
   "outputs": [],
   "source": [
    "df.dropna(subset=['description', 'points'], inplace=True)"
   ]
  },
  {
   "cell_type": "markdown",
   "metadata": {},
   "source": [
    "<h2> This is the summary for the final df </h2>"
   ]
  },
  {
   "cell_type": "code",
   "execution_count": 20,
   "metadata": {},
   "outputs": [
    {
     "data": {
      "text/plain": [
       "country          63\n",
       "description       0\n",
       "points            0\n",
       "price          8996\n",
       "variety           1\n",
       "winery            0\n",
       "dtype: int64"
      ]
     },
     "execution_count": 20,
     "metadata": {},
     "output_type": "execute_result"
    }
   ],
   "source": [
    "df.isna().sum()"
   ]
  },
  {
   "cell_type": "code",
   "execution_count": 21,
   "metadata": {},
   "outputs": [
    {
     "name": "stdout",
     "output_type": "stream",
     "text": [
      "<class 'pandas.core.frame.DataFrame'>\n",
      "Int64Index: 129971 entries, 0 to 129970\n",
      "Data columns (total 6 columns):\n",
      " #   Column       Non-Null Count   Dtype  \n",
      "---  ------       --------------   -----  \n",
      " 0   country      129908 non-null  object \n",
      " 1   description  129971 non-null  object \n",
      " 2   points       129971 non-null  int64  \n",
      " 3   price        120975 non-null  float64\n",
      " 4   variety      129970 non-null  object \n",
      " 5   winery       129971 non-null  object \n",
      "dtypes: float64(1), int64(1), object(4)\n",
      "memory usage: 6.9+ MB\n"
     ]
    }
   ],
   "source": [
    "df.info()"
   ]
  },
  {
   "cell_type": "markdown",
   "metadata": {},
   "source": [
    "### EDA"
   ]
  },
  {
   "cell_type": "code",
   "execution_count": 22,
   "metadata": {},
   "outputs": [
    {
     "data": {
      "image/png": "[encoded data removed]",
      "text/plain": [
       "<Figure size 432x288 with 1 Axes>"
      ]
     },
     "metadata": {
      "image/png": {
       "height": 261,
       "width": 401
      },
      "needs_background": "light"
     },
     "output_type": "display_data"
    }
   ],
   "source": [
    "plt.hist(df.points, bins=15)\n",
    "plt.xlabel('Points')\n",
    "plt.ylabel('Distribution')\n",
    "plt.show()"
   ]
  },
  {
   "cell_type": "markdown",
   "metadata": {},
   "source": [
    "#### Apply lambda function tp perticular column"
   ]
  },
  {
   "cell_type": "code",
   "execution_count": 23,
   "metadata": {},
   "outputs": [],
   "source": [
    "df['label'] = df.points.apply(lambda x: 1 if x >= 90 else 0)"
   ]
  },
  {
   "cell_type": "code",
   "execution_count": 24,
   "metadata": {},
   "outputs": [
    {
     "data": {
      "text/plain": [
       "0    80926\n",
       "1    49045\n",
       "Name: label, dtype: int64"
      ]
     },
     "execution_count": 24,
     "metadata": {},
     "output_type": "execute_result"
    }
   ],
   "source": [
    "df.label.value_counts()"
   ]
  },
  {
   "cell_type": "code",
   "execution_count": 25,
   "metadata": {},
   "outputs": [],
   "source": [
    "# we can also use the following code to create a new column called 'label' instead of using the apply function\n",
    "# df['label'] = (df['points'] >= 90).astype(int)"
   ]
  },
  {
   "cell_type": "code",
   "execution_count": 26,
   "metadata": {},
   "outputs": [],
   "source": [
    "df = df[['description', 'label']]"
   ]
  },
  {
   "cell_type": "code",
   "execution_count": 27,
   "metadata": {},
   "outputs": [],
   "source": [
    "train, val, test = np.split(df.sample(frac=1), [int(.8*len(df)), int(.9*len(df))])"
   ]
  },
  {
   "cell_type": "code",
   "execution_count": 28,
   "metadata": {},
   "outputs": [
    {
     "name": "stdout",
     "output_type": "stream",
     "text": [
      "(103976, 2) (12997, 2) (12998, 2)\n"
     ]
    }
   ],
   "source": [
    "print(train.shape, val.shape, test.shape)"
   ]
  },
  {
   "cell_type": "markdown",
   "metadata": {},
   "source": [
    "### What is the puropose of the following code?\n",
    "### look it into details later."
   ]
  },
  {
   "cell_type": "code",
   "execution_count": 30,
   "metadata": {},
   "outputs": [],
   "source": [
    "def df_to_dataset(dataframe, shuffle=True, batch_size=1024):\n",
    "  df = dataframe.copy()\n",
    "  labels = df.pop('label')\n",
    "  df = df[\"description\"]\n",
    "  ds = tf.data.Dataset.from_tensor_slices((df, labels))\n",
    "  if shuffle:\n",
    "    ds = ds.shuffle(buffer_size=len(dataframe))\n",
    "  ds = ds.batch(batch_size)\n",
    "  ds = ds.prefetch(tf.data.AUTOTUNE)\n",
    "  return ds"
   ]
  },
  {
   "cell_type": "code",
   "execution_count": 31,
   "metadata": {},
   "outputs": [],
   "source": [
    "train_data = df_to_dataset(train)\n",
    "valid_data = df_to_dataset(val)\n",
    "test_data = df_to_dataset(test)"
   ]
  },
  {
   "cell_type": "code",
   "execution_count": 58,
   "metadata": {},
   "outputs": [
    {
     "name": "stdout",
     "output_type": "stream",
     "text": [
      "(<tf.Tensor: shape=(1024,), dtype=string, numpy=\n",
      "array([b'A very rich, dramatic, indisputably Napa Cabernet. The fruit is ripe in blackberries and cassis, the tannin structure is vibrant and living, and the oak application is superb. A fashionable Cab that should develop over the next eight years.',\n",
      "       b'This is a pleasant red wine from Piedmont in northern Italy made with Nebbiolo and Vespolina grapes for a clean delivery of berry, spice and cola aromas. The wine is tonic and fresh in the mouth with clean acidity and playful bite of exotic spice on the close.',\n",
      "       b'This is a broad, sweet, full-bodied dessert wine that lacks the crisp acids necessary for a higher degree of balance. Instead, it delivers intense honey and pineapple flavors that stick stubbornly to the palate. Probably best with sweet desserts.',\n",
      "       ...,\n",
      "       b'Touched by spice from wood aging, this is a balanced wine. Its toastiness supports the ripe peach and apricot fruits, lifted by acidity. It will be a good wine; drink from 2018.',\n",
      "       b'Fresh and fragrant, this is a lively, bright and tangy wine. With crisp acidity and raspberry fruit that is twisted with orange peel it is ready to drink.',\n",
      "       b\"The Matariki style of late harvest wine is to avoid overly sugary renditions in favor of balance. In this, the 2000 succeeds admirably, combining bergamot, pineapple and apricot flavors in a lightly sweet yet tart wine. Best with fresh fruit and cheeses, as it's not rich enough to match with anything sweeter.\"],\n",
      "      dtype=object)>, <tf.Tensor: shape=(1024,), dtype=int64, numpy=array([1, 0, 0, ..., 0, 0, 0])>)\n"
     ]
    }
   ],
   "source": [
    "for i in train_data.take(1):\n",
    "  print(i)"
   ]
  },
  {
   "cell_type": "code",
   "execution_count": 67,
   "metadata": {},
   "outputs": [
    {
     "name": "stderr",
     "output_type": "stream",
     "text": [
      "2022-06-21 00:10:43.039473: W tensorflow/core/platform/profile_utils/cpu_utils.cc:128] Failed to get CPU frequency: 0 Hz\n"
     ]
    }
   ],
   "source": [
    "embedding = \"https://tfhub.dev/google/nnlm-en-dim50/2\"\n",
    "hub_layer = hub.KerasLayer(embedding, dtype=tf.string, trainable=True)"
   ]
  },
  {
   "cell_type": "code",
   "execution_count": 80,
   "metadata": {},
   "outputs": [
    {
     "data": {
      "text/plain": [
       "<tf.Tensor: shape=(1024,), dtype=string, numpy=\n",
       "array([b'Completely stainless-fermented and aged, this is a blockbuster of a white wine, refreshing and exotic in floral intoxication. Dry and light-bodied, it offers an edginess of slate-like minerality along with aromas of apricot and peach, finishing in a dusting of white pepper.',\n",
       "       b'The label says Napa Valley but the grapes come from Carneros, and you can taste the cool fog in the crisp acidity that frames long hangtime flavors of ripe pineapple, guava, nectarine, roasted peach and lime custard. This is a pretty Chard, balanced and dry, and it impresses for its volume and length.',\n",
       "       b'Ripe white grapefruit and lychee notes perfume this refreshing, easy-drinking Gr\\xc3\\xbcner Veltliner. On the palate, gooseberry and lime flavors are delicate in concentration but it finishes with an invigorating brace of crushed minerals.',\n",
       "       ...,\n",
       "       b'This blend of Sangiovese and Merlot starts with aromas of espresso, toasted oak and plum. The palate offers one-dimensional plum and cherry with oak notes alongside firm tannins and uplifting acidity.',\n",
       "       b'A direct reflection of the 2012 vintage, with notes of wild strawberry, sarsaparilla, clove and cinnamon. The flavors are medium bodied in style, juicy and appealing.',\n",
       "       b'A generous wine, this is packed with red fruits as well as firmly structured. It conveys the fresh acidity of the year, with fine smoky tannins. It will be an impressive wine. Drink from 2020.'],\n",
       "      dtype=object)>"
      ]
     },
     "execution_count": 80,
     "metadata": {},
     "output_type": "execute_result"
    }
   ],
   "source": [
    "list(train_data)[0][0]"
   ]
  },
  {
   "cell_type": "code",
   "execution_count": 82,
   "metadata": {},
   "outputs": [
    {
     "data": {
      "text/plain": [
       "<tf.Tensor: shape=(1024, 50), dtype=float32, numpy=\n",
       "array([[-0.0012439 , -0.09365706, -0.12321281, ..., -0.3201542 ,\n",
       "        -0.1284347 ,  0.05955575],\n",
       "       [ 0.33945358, -0.23618123, -0.2305099 , ..., -0.08266268,\n",
       "         0.27211103,  0.15572451],\n",
       "       [ 0.28139442, -0.12988901,  0.09559803, ...,  0.18410209,\n",
       "        -0.05989112, -0.11929152],\n",
       "       ...,\n",
       "       [ 0.45168313, -0.13605252, -0.31841782, ..., -0.10140887,\n",
       "        -0.1788628 ,  0.2342917 ],\n",
       "       [ 0.45715016, -0.16173916, -0.12438109, ...,  0.10529581,\n",
       "        -0.17982656,  0.04192869],\n",
       "       [ 0.08921701, -0.22221851, -0.2257588 , ...,  0.0052031 ,\n",
       "         0.11706206, -0.09028736]], dtype=float32)>"
      ]
     },
     "execution_count": 82,
     "metadata": {},
     "output_type": "execute_result"
    }
   ],
   "source": [
    "hub_layer(list(train_data)[0][0])"
   ]
  },
  {
   "cell_type": "markdown",
   "metadata": {},
   "source": [
    "### Define a deep neural net model."
   ]
  },
  {
   "cell_type": "code",
   "execution_count": 112,
   "metadata": {},
   "outputs": [],
   "source": [
    "def get_model():\n",
    "    model = tf.keras.Sequential()\n",
    "    model.add(hub_layer)\n",
    "    model.add(tf.keras.layers.Dense(16, activation='relu'))\n",
    "    model.add(tf.keras.layers.Dense(16, activation='relu'))\n",
    "    model.add(tf.keras.layers.Dense(1, activation='sigmoid'))\n",
    "    model.compile(optimizer=tf.keras.optimizers.Adam(learning_rate=0.001),\n",
    "              loss=tf.keras.losses.BinaryCrossentropy(),\n",
    "              metrics=['accuracy'])\n",
    "    return model"
   ]
  },
  {
   "cell_type": "code",
   "execution_count": 113,
   "metadata": {},
   "outputs": [],
   "source": [
    "model = get_model()"
   ]
  },
  {
   "cell_type": "markdown",
   "metadata": {},
   "source": [
    "#### This is model evaluation on test data and validation data without training the network and accuracy is pretty bad 38.22%"
   ]
  },
  {
   "cell_type": "code",
   "execution_count": 114,
   "metadata": {},
   "outputs": [
    {
     "name": "stdout",
     "output_type": "stream",
     "text": [
      "102/102 [==============================] - 2s 21ms/step - loss: 0.7354 - accuracy: 0.3822\n"
     ]
    },
    {
     "data": {
      "text/plain": [
       "[0.7354397177696228, 0.3821747303009033]"
      ]
     },
     "execution_count": 114,
     "metadata": {},
     "output_type": "execute_result"
    }
   ],
   "source": [
    "model.evaluate(train_data)"
   ]
  },
  {
   "cell_type": "code",
   "execution_count": 86,
   "metadata": {},
   "outputs": [
    {
     "name": "stdout",
     "output_type": "stream",
     "text": [
      "13/13 [==============================] - 0s 5ms/step - loss: 0.7118 - accuracy: 0.3856\n"
     ]
    },
    {
     "data": {
      "text/plain": [
       "[0.7117805480957031, 0.3856274485588074]"
      ]
     },
     "execution_count": 86,
     "metadata": {},
     "output_type": "execute_result"
    }
   ],
   "source": [
    "model.evaluate(valid_data)"
   ]
  },
  {
   "cell_type": "markdown",
   "metadata": {},
   "source": [
    "#### Training the model using 10 epochs."
   ]
  },
  {
   "cell_type": "code",
   "execution_count": 117,
   "metadata": {},
   "outputs": [
    {
     "name": "stdout",
     "output_type": "stream",
     "text": [
      "Epoch 1/10\n",
      "102/102 [==============================] - 15s 150ms/step - loss: 0.2529 - accuracy: 0.8935 - val_loss: 0.4000 - val_accuracy: 0.8287\n",
      "Epoch 2/10\n",
      "102/102 [==============================] - 16s 152ms/step - loss: 0.2458 - accuracy: 0.8962 - val_loss: 0.4008 - val_accuracy: 0.8291\n",
      "Epoch 3/10\n",
      "102/102 [==============================] - 16s 154ms/step - loss: 0.2365 - accuracy: 0.9007 - val_loss: 0.4053 - val_accuracy: 0.8283\n",
      "Epoch 4/10\n",
      "102/102 [==============================] - 15s 150ms/step - loss: 0.2276 - accuracy: 0.9049 - val_loss: 0.4120 - val_accuracy: 0.8300\n",
      "Epoch 5/10\n",
      "102/102 [==============================] - 16s 152ms/step - loss: 0.2183 - accuracy: 0.9090 - val_loss: 0.4192 - val_accuracy: 0.8305\n",
      "Epoch 6/10\n",
      "102/102 [==============================] - 16s 160ms/step - loss: 0.2093 - accuracy: 0.9132 - val_loss: 0.4318 - val_accuracy: 0.8332\n",
      "Epoch 7/10\n",
      "102/102 [==============================] - 16s 155ms/step - loss: 0.2000 - accuracy: 0.9174 - val_loss: 0.4394 - val_accuracy: 0.8308\n",
      "Epoch 8/10\n",
      "102/102 [==============================] - 16s 154ms/step - loss: 0.1908 - accuracy: 0.9223 - val_loss: 0.4588 - val_accuracy: 0.8313\n",
      "Epoch 9/10\n",
      "102/102 [==============================] - 16s 154ms/step - loss: 0.1818 - accuracy: 0.9266 - val_loss: 0.4700 - val_accuracy: 0.8314\n",
      "Epoch 10/10\n",
      "102/102 [==============================] - 16s 155ms/step - loss: 0.1724 - accuracy: 0.9313 - val_loss: 0.4833 - val_accuracy: 0.8298\n"
     ]
    }
   ],
   "source": [
    "history = model.fit(train_data, epochs=10, validation_data=valid_data)"
   ]
  },
  {
   "cell_type": "code",
   "execution_count": 123,
   "metadata": {},
   "outputs": [
    {
     "data": {
      "text/plain": [
       "dict_keys(['loss', 'accuracy', 'val_loss', 'val_accuracy'])"
      ]
     },
     "execution_count": 123,
     "metadata": {},
     "output_type": "execute_result"
    }
   ],
   "source": [
    "history.history.keys()"
   ]
  },
  {
   "cell_type": "code",
   "execution_count": 130,
   "metadata": {},
   "outputs": [
    {
     "data": {
      "image/png": "[encoded data removed]",
      "text/plain": [
       "<Figure size 432x288 with 1 Axes>"
      ]
     },
     "metadata": {
      "image/png": {
       "height": 261,
       "width": 391
      },
      "needs_background": "light"
     },
     "output_type": "display_data"
    }
   ],
   "source": [
    "plt.plot(history.history['loss'], label='train loss')\n",
    "plt.plot(history.history['val_loss'], label='validation loss')\n",
    "plt.xlabel('Epoch')\n",
    "plt.ylabel('Loss')\n",
    "plt.legend()\n",
    "plt.show()"
   ]
  },
  {
   "cell_type": "code",
   "execution_count": 131,
   "metadata": {},
   "outputs": [
    {
     "data": {
      "image/png": "[encoded data removed]",
      "text/plain": [
       "<Figure size 432x288 with 1 Axes>"
      ]
     },
     "metadata": {
      "image/png": {
       "height": 261,
       "width": 391
      },
      "needs_background": "light"
     },
     "output_type": "display_data"
    }
   ],
   "source": [
    "plt.plot(history.history['accuracy'], label='train accuracy')\n",
    "plt.plot(history.history['val_accuracy'], label='validation accuracy')\n",
    "plt.xlabel('Epoch')\n",
    "plt.ylabel('Accuracy')\n",
    "plt.legend()\n",
    "plt.show()"
   ]
  },
  {
   "cell_type": "markdown",
   "metadata": {},
   "source": [
    "#### As we can see, the model training accuracy keep on increasing w.r.t the epochs but the validation accuracy reached a peak value and start decreasing again. And similiar pattern is observed for the loss function but in the opposite sense. This is related to the overfitting problem.\n",
    "#### There are two ways we can solve this problem.\n",
    "<li>Use drop layers in between the layer</li>\n",
    "<li>Stop training the model before the loss value starts to increase</li>"
   ]
  },
  {
   "cell_type": "code",
   "execution_count": 134,
   "metadata": {},
   "outputs": [],
   "source": [
    "def get_model1():\n",
    "    model = tf.keras.Sequential()\n",
    "    model.add(hub_layer)\n",
    "    model.add(tf.keras.layers.Dense(16, activation='relu'))\n",
    "    model.add(tf.keras.layers.Dropout(0.3))\n",
    "    model.add(tf.keras.layers.Dense(16, activation='relu'))\n",
    "    model.add(tf.keras.layers.Dropout(0.3))\n",
    "    model.add(tf.keras.layers.Dense(1, activation='sigmoid'))\n",
    "    model.compile(optimizer=tf.keras.optimizers.Adam(learning_rate=0.001),\n",
    "              loss=tf.keras.losses.BinaryCrossentropy(),\n",
    "              metrics=['accuracy'])\n",
    "    return model"
   ]
  },
  {
   "cell_type": "code",
   "execution_count": 135,
   "metadata": {},
   "outputs": [],
   "source": [
    "model1 = get_model1()"
   ]
  },
  {
   "cell_type": "markdown",
   "metadata": {},
   "source": [
    "### Here we are using earlystop callback to stop training when the loss on the validation data is reached the minimum value."
   ]
  },
  {
   "cell_type": "code",
   "execution_count": 136,
   "metadata": {},
   "outputs": [
    {
     "name": "stdout",
     "output_type": "stream",
     "text": [
      "Epoch 1/20\n",
      "102/102 [==============================] - 16s 150ms/step - loss: 0.6160 - accuracy: 0.6723 - val_loss: 0.4544 - val_accuracy: 0.8220\n",
      "Epoch 2/20\n",
      "102/102 [==============================] - 15s 148ms/step - loss: 0.4045 - accuracy: 0.8358 - val_loss: 0.3786 - val_accuracy: 0.8326\n",
      "Epoch 3/20\n",
      "102/102 [==============================] - 15s 148ms/step - loss: 0.3282 - accuracy: 0.8695 - val_loss: 0.3807 - val_accuracy: 0.8307\n",
      "Epoch 4/20\n",
      "102/102 [==============================] - 15s 149ms/step - loss: 0.2939 - accuracy: 0.8838 - val_loss: 0.3965 - val_accuracy: 0.8287\n",
      "Epoch 5/20\n",
      "102/102 [==============================] - 15s 148ms/step - loss: 0.2688 - accuracy: 0.8932 - val_loss: 0.4123 - val_accuracy: 0.8282\n",
      "Epoch 5: early stopping\n"
     ]
    }
   ],
   "source": [
    "es = EarlyStopping(monitor='val_loss', mode='auto', verbose=1, patience=3)\n",
    "history = model1.fit(train_data, epochs=20, validation_data=valid_data, callbacks=[es])\n"
   ]
  },
  {
   "cell_type": "code",
   "execution_count": 151,
   "metadata": {},
   "outputs": [
    {
     "data": {
      "image/png": "[encoded data removed]",
      "text/plain": [
       "<Figure size 432x288 with 1 Axes>"
      ]
     },
     "metadata": {
      "image/png": {
       "height": 261,
       "width": 391
      },
      "needs_background": "light"
     },
     "output_type": "display_data"
    }
   ],
   "source": [
    "plt.plot(history.history['accuracy'], label='train accuracy')\n",
    "plt.plot(history.history['val_accuracy'], label='validation accuracy')\n",
    "plt.xlabel('Epoch')\n",
    "plt.xticks(history.epoch)\n",
    "plt.ylabel('Accuracy')\n",
    "plt.legend()\n",
    "plt.show()"
   ]
  },
  {
   "cell_type": "code",
   "execution_count": 161,
   "metadata": {},
   "outputs": [
    {
     "data": {
      "text/plain": [
       "1"
      ]
     },
     "execution_count": 161,
     "metadata": {},
     "output_type": "execute_result"
    }
   ],
   "source": [
    "np.argmax(history.history['val_accuracy'])"
   ]
  },
  {
   "cell_type": "markdown",
   "metadata": {},
   "source": [
    "#### After the earlystop callback is triggered, the model is not trained anymore and maximum accuracy is achieved at 1st epoch training."
   ]
  },
  {
   "cell_type": "code",
   "execution_count": 137,
   "metadata": {},
   "outputs": [
    {
     "name": "stdout",
     "output_type": "stream",
     "text": [
      "13/13 [==============================] - 0s 22ms/step - loss: 0.4250 - accuracy: 0.8215\n"
     ]
    },
    {
     "data": {
      "text/plain": [
       "[0.42498770356178284, 0.8215110301971436]"
      ]
     },
     "execution_count": 137,
     "metadata": {},
     "output_type": "execute_result"
    }
   ],
   "source": [
    "model1.evaluate(test_data)"
   ]
  },
  {
   "cell_type": "code",
   "execution_count": 139,
   "metadata": {},
   "outputs": [
    {
     "name": "stdout",
     "output_type": "stream",
     "text": [
      "13/13 [==============================] - 0s 23ms/step - loss: 0.5228 - accuracy: 0.8149\n"
     ]
    },
    {
     "data": {
      "text/plain": [
       "[0.5227763056755066, 0.81488037109375]"
      ]
     },
     "execution_count": 139,
     "metadata": {},
     "output_type": "execute_result"
    }
   ],
   "source": [
    "model.evaluate(valid_data)"
   ]
  },
  {
   "cell_type": "code",
   "execution_count": null,
   "metadata": {},
   "outputs": [],
   "source": []
  }
 ],
 "metadata": {
  "kernelspec": {
   "display_name": "machine_learning",
   "language": "python",
   "name": "machine_learning"
  },
  "language_info": {
   "codemirror_mode": {
    "name": "ipython",
    "version": 3
   },
   "file_extension": ".py",
   "mimetype": "text/x-python",
   "name": "python",
   "nbconvert_exporter": "python",
   "pygments_lexer": "ipython3",
   "version": "3.9.7"
  },
  "orig_nbformat": 4,
  "vscode": {
   "interpreter": {
    "hash": "25d94ae763beb282c8936bac0f3ff970d91daf0b8f2bdf99ab1c21bc0960c6c6"
   }
  }
 },
 "nbformat": 4,
 "nbformat_minor": 2
}
